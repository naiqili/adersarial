{
 "cells": [
  {
   "cell_type": "code",
   "execution_count": 1,
   "metadata": {},
   "outputs": [],
   "source": [
    "import torch\n",
    "import pickle\n",
    "import torch.nn as nn\n",
    "import torch.nn.functional as F\n",
    "import torch.optim as optim\n",
    "import matplotlib.pyplot as plt\n",
    "import numpy as np\n",
    "from torch.autograd import Variable\n",
    "from torch.utils.data.dataset import random_split\n",
    "from torchvision import datasets, transforms"
   ]
  },
  {
   "cell_type": "code",
   "execution_count": 2,
   "metadata": {},
   "outputs": [],
   "source": [
    "class Attack(object):\n",
    "    def __init__(self, net, criterion):\n",
    "        self.net = net\n",
    "        self.criterion = criterion\n",
    "\n",
    "    def fgsm(self, x, y, targeted=False, eps=0.03, x_val_min=-1, x_val_max=1):\n",
    "        x_adv = x.requires_grad_(True)\n",
    "        h_adv = self.net(x_adv)\n",
    "        self.net.zero_grad()\n",
    "        if x_adv.grad is not None:\n",
    "            x_adv.grad.data.fill_(0)\n",
    "        if targeted:\n",
    "            cost = self.criterion(h_adv, y)\n",
    "        else:\n",
    "            cost = -self.criterion(h_adv, y)\n",
    "\n",
    "        cost.backward()\n",
    "\n",
    "        x_adv.grad.sign_()\n",
    "        x_adv = x_adv - eps*x_adv.grad\n",
    "        x_adv = torch.clamp(x_adv, x_val_min, x_val_max)\n",
    "\n",
    "\n",
    "        h = self.net(x)\n",
    "        h_adv = self.net(x_adv)\n",
    "\n",
    "        return x_adv, h_adv, h\n",
    "\n",
    "    def i_fgsm(self, x, y, targeted=False, eps=0.03, alpha=1, iteration=1, x_val_min=-1, x_val_max=1):\n",
    "        x_adv = Variable(x.data, requires_grad=True)\n",
    "        for i in range(iteration):\n",
    "            h_adv = self.net(x_adv)\n",
    "            if targeted:\n",
    "                cost = self.criterion(h_adv, y)\n",
    "            else:\n",
    "                cost = -self.criterion(h_adv, y)\n",
    "\n",
    "            self.net.zero_grad()\n",
    "            if x_adv.grad is not None:\n",
    "                x_adv.grad.data.fill_(0)\n",
    "            cost.backward()\n",
    "\n",
    "            x_adv.grad.sign_()\n",
    "            x_adv = x_adv - alpha*x_adv.grad\n",
    "            x_adv = torch.clamp(x_adv, x-eps, x+eps)\n",
    "            x_adv = torch.clamp(x_adv, x_val_min, x_val_max)\n",
    "            x_adv = Variable(x_adv.data, requires_grad=True)\n",
    "\n",
    "        h = self.net(x)\n",
    "        h_adv = self.net(x_adv)\n",
    "\n",
    "        return x_adv, h_adv, h"
   ]
  },
  {
   "cell_type": "code",
   "execution_count": 3,
   "metadata": {},
   "outputs": [],
   "source": [
    "def imshow(img):\n",
    "    npimg = img.numpy()\n",
    "    npimg = npimg / 2 + 0.5     # unnormalize\n",
    "    plt.figure(figsize=(2,2))\n",
    "    plt.imshow(npimg.reshape(npimg.shape[1: 3]), cmap='gray')\n",
    "    plt.show()"
   ]
  },
  {
   "cell_type": "markdown",
   "metadata": {},
   "source": [
    "# Black-box Attack\n",
    "Generate adversarial images from model1 (small size), then use the adversarial examples to attack model2 (median size)."
   ]
  },
  {
   "cell_type": "code",
   "execution_count": 4,
   "metadata": {},
   "outputs": [
    {
     "name": "stdout",
     "output_type": "stream",
     "text": [
      "Net(\n",
      "  (fc1): Linear(in_features=784, out_features=128, bias=True)\n",
      "  (fc2): Linear(in_features=128, out_features=256, bias=True)\n",
      "  (fc3): Linear(in_features=256, out_features=10, bias=True)\n",
      ")\n",
      "Net(\n",
      "  (fc1): Linear(in_features=7840, out_features=50, bias=True)\n",
      "  (fc2): Linear(in_features=50, out_features=10, bias=True)\n",
      ")\n"
     ]
    }
   ],
   "source": [
    "dataroot = 'D:/Lab/dataset'\n",
    "model_file1 = './models/model1.md'\n",
    "k_fs = 10\n",
    "dim = 28*28\n",
    "suffix = '_reg_k10'\n",
    "model_file2 = './models/model_info' + suffix + '.md'\n",
    "\n",
    "class Net(nn.Module):\n",
    "    def __init__(self):\n",
    "        super(Net, self).__init__()\n",
    "        self.fc1 = nn.Linear(28*28, 128)\n",
    "        self.fc2 = nn.Linear(128, 256)\n",
    "        self.fc3 = nn.Linear(256, 10)\n",
    "\n",
    "    def forward(self, x):\n",
    "        x = x.view(-1, 28*28)\n",
    "        x = F.relu(self.fc1(x))\n",
    "        x = F.relu(self.fc2(x))\n",
    "        x = F.dropout(x, training=self.training)\n",
    "        x = self.fc3(x)\n",
    "        return F.log_softmax(x, dim=1) \n",
    "\n",
    "model1 = torch.load(model_file1).cpu()\n",
    "\n",
    "class Net(nn.Module):\n",
    "    def __init__(self):\n",
    "        super(Net, self).__init__()\n",
    "        self.fc1 = nn.Linear(28*28*k_fs, 50)\n",
    "        self.fc2 = nn.Linear(50, 10)\n",
    "\n",
    "    def forward(self, x):\n",
    "        x = F.dropout(x, training=self.training, p=0.8)\n",
    "        x = F.relu(self.fc1(x))\n",
    "        x = F.dropout(x, training=self.training, p=0.8)\n",
    "        x = self.fc2(x)\n",
    "        return F.log_softmax(x, dim=1)    \n",
    "\n",
    "model2 = torch.load(model_file2).cpu()\n",
    "\n",
    "print(model1)\n",
    "print(model2)"
   ]
  },
  {
   "cell_type": "markdown",
   "metadata": {},
   "source": [
    "Prepare to compute features."
   ]
  },
  {
   "cell_type": "code",
   "execution_count": 5,
   "metadata": {},
   "outputs": [
    {
     "name": "stdout",
     "output_type": "stream",
     "text": [
      "10\n"
     ]
    }
   ],
   "source": [
    "train_max_min_file = './models/train_max_min' + suffix + '.npz'\n",
    "\n",
    "with open(train_max_min_file, 'rb') as fp:\n",
    "    npzfile = np.load(fp)\n",
    "    train_max, train_min = npzfile['train_max'], npzfile['train_min']\n",
    "    \n",
    "feature_path = './models/feats' + suffix\n",
    "\n",
    "with open(feature_path, 'rb') as fp:\n",
    "    fs = pickle.load(fp)\n",
    "print(len(fs))\n",
    "\n",
    "# maps a pixel to quantized index\n",
    "def q_map(x, threshold=0.4):\n",
    "    if x < threshold:\n",
    "        return 0\n",
    "    else:\n",
    "        return 1"
   ]
  },
  {
   "cell_type": "code",
   "execution_count": 6,
   "metadata": {},
   "outputs": [],
   "source": [
    "# InfoTrans + NormalTrans\n",
    "class InfoFeat(object):\n",
    "    def __init__(self, _max, _min, q_map=q_map, fs=fs, q_dim=2):\n",
    "        self._max = _max\n",
    "        self._min = _min\n",
    "        self.q_map = q_map\n",
    "        self.fs = fs\n",
    "        self.k_fs = len(fs)\n",
    "        self.q_dim = q_dim\n",
    "    \n",
    "    def __call__(self, img):\n",
    "        feats = np.zeros((img.shape[0], img.shape[1]*self.k_fs))\n",
    "        for i in range(img.shape[0]):\n",
    "            for idx, pixel in enumerate(img[i]):\n",
    "                for k in range(self.k_fs):\n",
    "                    feats[i, k*dim+idx] = self.fs[k][idx*self.q_dim+self.q_map(pixel)]\n",
    "        res = feats\n",
    "        for k in range(k_fs):\n",
    "            res[:, k*dim:(k+1)*dim] = (res[:, k*dim:(k+1)*dim] - self._min[k]) / (self._max[k] - self._min[k]) * 2 - 1      \n",
    "        return torch.from_numpy(res).float()"
   ]
  },
  {
   "cell_type": "code",
   "execution_count": 7,
   "metadata": {},
   "outputs": [
    {
     "data": {
      "image/png": "[encoded data removed]",
      "text/plain": [
       "<Figure size 144x144 with 1 Axes>"
      ]
     },
     "metadata": {
      "needs_background": "light"
     },
     "output_type": "display_data"
    },
    {
     "name": "stdout",
     "output_type": "stream",
     "text": [
      "tensor([9])\n"
     ]
    },
    {
     "data": {
      "image/png": "[encoded data removed]",
      "text/plain": [
       "<Figure size 144x144 with 1 Axes>"
      ]
     },
     "metadata": {
      "needs_background": "light"
     },
     "output_type": "display_data"
    },
    {
     "name": "stdout",
     "output_type": "stream",
     "text": [
      "Normal Pred: tensor([9]), Adv. Pred: tensor([9])\n"
     ]
    },
    {
     "data": {
      "image/png": "[encoded data removed]",
      "text/plain": [
       "<Figure size 144x144 with 1 Axes>"
      ]
     },
     "metadata": {
      "needs_background": "light"
     },
     "output_type": "display_data"
    },
    {
     "name": "stdout",
     "output_type": "stream",
     "text": [
      "tensor([4])\n"
     ]
    },
    {
     "data": {
      "image/png": "[encoded data removed]",
      "text/plain": [
       "<Figure size 144x144 with 1 Axes>"
      ]
     },
     "metadata": {
      "needs_background": "light"
     },
     "output_type": "display_data"
    },
    {
     "name": "stdout",
     "output_type": "stream",
     "text": [
      "Normal Pred: tensor([4]), Adv. Pred: tensor([4])\n"
     ]
    },
    {
     "data": {
      "image/png": "[encoded data removed]",
      "text/plain": [
       "<Figure size 144x144 with 1 Axes>"
      ]
     },
     "metadata": {
      "needs_background": "light"
     },
     "output_type": "display_data"
    },
    {
     "name": "stdout",
     "output_type": "stream",
     "text": [
      "tensor([1])\n"
     ]
    },
    {
     "data": {
      "image/png": "[encoded data removed]",
      "text/plain": [
       "<Figure size 144x144 with 1 Axes>"
      ]
     },
     "metadata": {
      "needs_background": "light"
     },
     "output_type": "display_data"
    },
    {
     "name": "stdout",
     "output_type": "stream",
     "text": [
      "Normal Pred: tensor([1]), Adv. Pred: tensor([1])\n"
     ]
    },
    {
     "data": {
      "image/png": "[encoded data removed]",
      "text/plain": [
       "<Figure size 144x144 with 1 Axes>"
      ]
     },
     "metadata": {
      "needs_background": "light"
     },
     "output_type": "display_data"
    },
    {
     "name": "stdout",
     "output_type": "stream",
     "text": [
      "tensor([9])\n"
     ]
    },
    {
     "data": {
      "image/png": "[encoded data removed]",
      "text/plain": [
       "<Figure size 144x144 with 1 Axes>"
      ]
     },
     "metadata": {
      "needs_background": "light"
     },
     "output_type": "display_data"
    },
    {
     "name": "stdout",
     "output_type": "stream",
     "text": [
      "Normal Pred: tensor([9]), Adv. Pred: tensor([9])\n"
     ]
    },
    {
     "data": {
      "image/png": "[encoded data removed]",
      "text/plain": [
       "<Figure size 144x144 with 1 Axes>"
      ]
     },
     "metadata": {
      "needs_background": "light"
     },
     "output_type": "display_data"
    },
    {
     "name": "stdout",
     "output_type": "stream",
     "text": [
      "tensor([0])\n"
     ]
    },
    {
     "data": {
      "image/png": "[encoded data removed]",
      "text/plain": [
       "<Figure size 144x144 with 1 Axes>"
      ]
     },
     "metadata": {
      "needs_background": "light"
     },
     "output_type": "display_data"
    },
    {
     "name": "stdout",
     "output_type": "stream",
     "text": [
      "Normal Pred: tensor([0]), Adv. Pred: tensor([0])\n"
     ]
    }
   ],
   "source": [
    "test_loader = torch.utils.data.DataLoader(\n",
    "    datasets.MNIST(dataroot, train=False, transform=transforms.Compose([\n",
    "                       transforms.ToTensor(),\n",
    "                       transforms.Normalize((0.1307,), (0.3081,))\n",
    "                   ])),\n",
    "    batch_size=1, shuffle=True)\n",
    "\n",
    "# get some random training images\n",
    "dataiter = iter(test_loader)\n",
    "for _ in range(5):\n",
    "    image, label = dataiter.next()\n",
    "\n",
    "    # print(image.shape)\n",
    "    imshow(image[0])\n",
    "    print(label)\n",
    "\n",
    "    att = Attack(model1, F.nll_loss)\n",
    "    x_adv, h_adv, h = att.fgsm(image, label, eps=0.3)\n",
    "\n",
    "    imshow(x_adv[0].detach())\n",
    "    \n",
    "    norm_feat = InfoFeat(train_max, train_min)(image.view(image.shape[0], -1))\n",
    "    adv_feat = InfoFeat(train_max, train_min)(x_adv.view(x_adv.shape[0], -1))\n",
    "    \n",
    "    norm_pred = model2(norm_feat).max(1)[1]\n",
    "    adv_pred = model2(adv_feat).max(1)[1]\n",
    "\n",
    "    print('Normal Pred: {}, Adv. Pred: {}'.format(norm_pred, adv_pred))"
   ]
  },
  {
   "cell_type": "code",
   "execution_count": 8,
   "metadata": {},
   "outputs": [],
   "source": [
    "def test(model, test_loader, att_fn, eps=0.3):\n",
    "    model.eval()\n",
    "    correct = 0\n",
    "    pred_correct = 0 # normal pred same as ground truth\n",
    "    for idx, (image, target) in enumerate(test_loader):\n",
    "        x_adv, h_adv, h = att_fn(image, target, eps=eps)\n",
    "        \n",
    "        norm_feat = InfoFeat(train_max, train_min)(image.view(image.shape[0], -1))\n",
    "        adv_feat = InfoFeat(train_max, train_min)(x_adv.view(x_adv.shape[0], -1))\n",
    "\n",
    "        norm_pred = model(norm_feat).max(1)[1].cpu()\n",
    "        adv_pred = model(adv_feat).max(1)[1].cpu()        \n",
    "        pred_truth = norm_pred.eq(target.cpu())\n",
    "        pred_correct += pred_truth.sum().item()\n",
    "        correct += (pred_truth * norm_pred.eq(adv_pred)).sum().item()\n",
    "        if (idx+1) % 1 == 0:\n",
    "            if pred_correct > 0:\n",
    "                tmp = 100. * (pred_correct - correct) / pred_correct\n",
    "            else:\n",
    "                tmp = 0\n",
    "            print('Step: {} Attack Succ.: {}/{} ({:.6f}%)'.format(\n",
    "                (idx+1), pred_correct - correct, pred_correct, tmp))\n",
    "\n",
    "    print('Final Results\\nPred Correct: {}, Correct: {}, Total: {}, \\nTest Accuracy: {}/{} ({:.6f}%), \\nAttack Succ: {}/{} ({:.6f}%)\\n'.format(\n",
    "        pred_correct, correct, len(test_loader.dataset),\n",
    "        pred_correct, len(test_loader.dataset),\n",
    "        100. * pred_correct / len(test_loader.dataset),\n",
    "        pred_correct-correct, pred_correct,\n",
    "        100. * (pred_correct-correct) / pred_correct))"
   ]
  },
  {
   "cell_type": "code",
   "execution_count": 9,
   "metadata": {},
   "outputs": [],
   "source": [
    "test_loader = torch.utils.data.DataLoader(\n",
    "    datasets.MNIST(dataroot, train=False, transform=transforms.Compose([\n",
    "                       transforms.ToTensor(),\n",
    "                       transforms.Normalize((0.1307,), (0.3081,))\n",
    "                   ])),\n",
    "    batch_size=100, shuffle=True)"
   ]
  },
  {
   "cell_type": "code",
   "execution_count": 10,
   "metadata": {},
   "outputs": [
    {
     "name": "stdout",
     "output_type": "stream",
     "text": [
      "Step: 1 Attack Succ.: 1/85 (1.176471%)\n",
      "Step: 2 Attack Succ.: 1/165 (0.606061%)\n",
      "Step: 3 Attack Succ.: 3/244 (1.229508%)\n",
      "Step: 4 Attack Succ.: 4/330 (1.212121%)\n",
      "Step: 5 Attack Succ.: 5/413 (1.210654%)\n",
      "Step: 6 Attack Succ.: 6/495 (1.212121%)\n",
      "Step: 7 Attack Succ.: 6/574 (1.045296%)\n",
      "Step: 8 Attack Succ.: 9/654 (1.376147%)\n",
      "Step: 9 Attack Succ.: 9/740 (1.216216%)\n",
      "Step: 10 Attack Succ.: 9/821 (1.096224%)\n",
      "Step: 11 Attack Succ.: 10/910 (1.098901%)\n",
      "Step: 12 Attack Succ.: 13/997 (1.303912%)\n",
      "Step: 13 Attack Succ.: 13/1080 (1.203704%)\n",
      "Step: 14 Attack Succ.: 13/1165 (1.115880%)\n",
      "Step: 15 Attack Succ.: 14/1249 (1.120897%)\n",
      "Step: 16 Attack Succ.: 14/1339 (1.045556%)\n",
      "Step: 17 Attack Succ.: 14/1424 (0.983146%)\n",
      "Step: 18 Attack Succ.: 14/1510 (0.927152%)\n",
      "Step: 19 Attack Succ.: 14/1596 (0.877193%)\n",
      "Step: 20 Attack Succ.: 15/1681 (0.892326%)\n",
      "Step: 21 Attack Succ.: 15/1762 (0.851305%)\n",
      "Step: 22 Attack Succ.: 17/1846 (0.920910%)\n",
      "Step: 23 Attack Succ.: 18/1932 (0.931677%)\n",
      "Step: 24 Attack Succ.: 19/2013 (0.943865%)\n",
      "Step: 25 Attack Succ.: 20/2095 (0.954654%)\n",
      "Step: 26 Attack Succ.: 21/2180 (0.963303%)\n",
      "Step: 27 Attack Succ.: 21/2264 (0.927562%)\n",
      "Step: 28 Attack Succ.: 21/2352 (0.892857%)\n",
      "Step: 29 Attack Succ.: 23/2439 (0.943009%)\n",
      "Step: 30 Attack Succ.: 23/2522 (0.911975%)\n",
      "Step: 31 Attack Succ.: 24/2603 (0.922013%)\n",
      "Step: 32 Attack Succ.: 26/2685 (0.968343%)\n",
      "Step: 33 Attack Succ.: 28/2772 (1.010101%)\n",
      "Step: 34 Attack Succ.: 29/2858 (1.014696%)\n",
      "Step: 35 Attack Succ.: 30/2947 (1.017984%)\n",
      "Step: 36 Attack Succ.: 30/3032 (0.989446%)\n",
      "Step: 37 Attack Succ.: 31/3114 (0.995504%)\n",
      "Step: 38 Attack Succ.: 31/3196 (0.969962%)\n",
      "Step: 39 Attack Succ.: 31/3278 (0.945699%)\n",
      "Step: 40 Attack Succ.: 31/3362 (0.922070%)\n",
      "Step: 41 Attack Succ.: 32/3447 (0.928343%)\n",
      "Step: 42 Attack Succ.: 33/3534 (0.933786%)\n",
      "Step: 43 Attack Succ.: 34/3620 (0.939227%)\n",
      "Step: 44 Attack Succ.: 35/3699 (0.946202%)\n",
      "Step: 45 Attack Succ.: 36/3782 (0.951877%)\n",
      "Step: 46 Attack Succ.: 36/3870 (0.930233%)\n",
      "Step: 47 Attack Succ.: 36/3957 (0.909780%)\n",
      "Step: 48 Attack Succ.: 39/4044 (0.964392%)\n",
      "Step: 49 Attack Succ.: 39/4122 (0.946143%)\n",
      "Step: 50 Attack Succ.: 40/4207 (0.950796%)\n",
      "Step: 51 Attack Succ.: 41/4288 (0.956157%)\n",
      "Step: 52 Attack Succ.: 42/4372 (0.960659%)\n",
      "Step: 53 Attack Succ.: 42/4461 (0.941493%)\n",
      "Step: 54 Attack Succ.: 45/4548 (0.989446%)\n",
      "Step: 55 Attack Succ.: 46/4639 (0.991593%)\n",
      "Step: 56 Attack Succ.: 46/4727 (0.973133%)\n",
      "Step: 57 Attack Succ.: 49/4816 (1.017442%)\n",
      "Step: 58 Attack Succ.: 49/4904 (0.999184%)\n",
      "Step: 59 Attack Succ.: 49/4992 (0.981571%)\n",
      "Step: 60 Attack Succ.: 50/5076 (0.985028%)\n",
      "Step: 61 Attack Succ.: 52/5162 (1.007361%)\n",
      "Step: 62 Attack Succ.: 53/5242 (1.011064%)\n",
      "Step: 63 Attack Succ.: 54/5335 (1.012184%)\n",
      "Step: 64 Attack Succ.: 54/5417 (0.996862%)\n",
      "Step: 65 Attack Succ.: 54/5507 (0.980570%)\n",
      "Step: 66 Attack Succ.: 55/5594 (0.983196%)\n",
      "Step: 67 Attack Succ.: 56/5676 (0.986610%)\n",
      "Step: 68 Attack Succ.: 56/5764 (0.971548%)\n",
      "Step: 69 Attack Succ.: 56/5848 (0.957592%)\n",
      "Step: 70 Attack Succ.: 57/5939 (0.959758%)\n",
      "Step: 71 Attack Succ.: 58/6020 (0.963455%)\n",
      "Step: 72 Attack Succ.: 60/6101 (0.983445%)\n",
      "Step: 73 Attack Succ.: 61/6188 (0.985779%)\n",
      "Step: 74 Attack Succ.: 64/6273 (1.020245%)\n",
      "Step: 75 Attack Succ.: 64/6354 (1.007240%)\n",
      "Step: 76 Attack Succ.: 64/6447 (0.992710%)\n",
      "Step: 77 Attack Succ.: 65/6537 (0.994340%)\n",
      "Step: 78 Attack Succ.: 65/6623 (0.981428%)\n",
      "Step: 79 Attack Succ.: 66/6708 (0.983900%)\n",
      "Step: 80 Attack Succ.: 66/6792 (0.971731%)\n",
      "Step: 81 Attack Succ.: 66/6876 (0.959860%)\n",
      "Step: 82 Attack Succ.: 66/6961 (0.948140%)\n",
      "Step: 83 Attack Succ.: 67/7043 (0.951299%)\n",
      "Step: 84 Attack Succ.: 67/7130 (0.939691%)\n",
      "Step: 85 Attack Succ.: 68/7216 (0.942350%)\n",
      "Step: 86 Attack Succ.: 69/7306 (0.944429%)\n",
      "Step: 87 Attack Succ.: 70/7386 (0.947739%)\n",
      "Step: 88 Attack Succ.: 70/7477 (0.936204%)\n",
      "Step: 89 Attack Succ.: 74/7562 (0.978577%)\n",
      "Step: 90 Attack Succ.: 75/7650 (0.980392%)\n",
      "Step: 91 Attack Succ.: 75/7735 (0.969619%)\n",
      "Step: 92 Attack Succ.: 75/7815 (0.959693%)\n",
      "Step: 93 Attack Succ.: 76/7899 (0.962147%)\n",
      "Step: 94 Attack Succ.: 79/7986 (0.989231%)\n",
      "Step: 95 Attack Succ.: 80/8071 (0.991203%)\n",
      "Step: 96 Attack Succ.: 81/8155 (0.993256%)\n",
      "Step: 97 Attack Succ.: 81/8243 (0.982652%)\n",
      "Step: 98 Attack Succ.: 81/8328 (0.972622%)\n",
      "Step: 99 Attack Succ.: 81/8410 (0.963139%)\n",
      "Step: 100 Attack Succ.: 82/8500 (0.964706%)\n",
      "Final Results\n",
      "Pred Correct: 8500, Correct: 8418, Total: 10000, \n",
      "Test Accuracy: 8500/10000 (85.000000%), \n",
      "Attack Succ: 82/8500 (0.964706%)\n",
      "\n"
     ]
    }
   ],
   "source": [
    "test(model2, test_loader, att.fgsm, eps=0.05)"
   ]
  },
  {
   "cell_type": "code",
   "execution_count": 11,
   "metadata": {},
   "outputs": [
    {
     "name": "stdout",
     "output_type": "stream",
     "text": [
      "Step: 1 Attack Succ.: 9/420 (2.142857%)\n",
      "Step: 2 Attack Succ.: 16/857 (1.866978%)\n",
      "Step: 3 Attack Succ.: 24/1288 (1.863354%)\n",
      "Step: 4 Attack Succ.: 29/1737 (1.669545%)\n",
      "Step: 5 Attack Succ.: 38/2179 (1.743919%)\n",
      "Step: 6 Attack Succ.: 50/2622 (1.906941%)\n",
      "Step: 7 Attack Succ.: 56/3053 (1.834261%)\n",
      "Step: 8 Attack Succ.: 66/3473 (1.900374%)\n",
      "Step: 9 Attack Succ.: 70/3915 (1.787995%)\n",
      "Step: 10 Attack Succ.: 79/4356 (1.813590%)\n",
      "Step: 11 Attack Succ.: 83/4794 (1.731331%)\n",
      "Step: 12 Attack Succ.: 87/5227 (1.664435%)\n",
      "Step: 13 Attack Succ.: 97/5656 (1.714993%)\n",
      "Step: 14 Attack Succ.: 107/6103 (1.753236%)\n",
      "Step: 15 Attack Succ.: 111/6547 (1.695433%)\n",
      "Step: 16 Attack Succ.: 117/6973 (1.677900%)\n",
      "Step: 17 Attack Succ.: 125/7397 (1.689874%)\n",
      "Step: 18 Attack Succ.: 131/7827 (1.673694%)\n",
      "Step: 19 Attack Succ.: 143/8256 (1.732074%)\n",
      "Step: 20 Attack Succ.: 147/8500 (1.729412%)\n",
      "Final Results\n",
      "Pred Correct: 8500, Correct: 8353, Total: 10000, \n",
      "Test Accuracy: 8500/10000 (85.000000%), \n",
      "Attack Succ: 147/8500 (1.729412%)\n",
      "\n"
     ]
    }
   ],
   "source": [
    "test_loader = torch.utils.data.DataLoader(\n",
    "    datasets.MNIST(dataroot, train=False, transform=transforms.Compose([\n",
    "                       transforms.ToTensor(),\n",
    "                       transforms.Normalize((0.1307,), (0.3081,))\n",
    "                   ])),\n",
    "    batch_size=512, shuffle=True)\n",
    "\n",
    "test(model2, test_loader, att.fgsm, eps=0.1)"
   ]
  },
  {
   "cell_type": "code",
   "execution_count": 12,
   "metadata": {},
   "outputs": [
    {
     "name": "stdout",
     "output_type": "stream",
     "text": [
      "Step: 1 Attack Succ.: 14/420 (3.333333%)\n",
      "Step: 2 Attack Succ.: 30/861 (3.484321%)\n",
      "Step: 3 Attack Succ.: 46/1286 (3.576983%)\n",
      "Step: 4 Attack Succ.: 60/1726 (3.476246%)\n",
      "Step: 5 Attack Succ.: 75/2163 (3.467406%)\n",
      "Step: 6 Attack Succ.: 93/2594 (3.585197%)\n",
      "Step: 7 Attack Succ.: 104/3029 (3.433476%)\n",
      "Step: 8 Attack Succ.: 121/3466 (3.491056%)\n",
      "Step: 9 Attack Succ.: 134/3914 (3.423608%)\n",
      "Step: 10 Attack Succ.: 149/4359 (3.418215%)\n",
      "Step: 11 Attack Succ.: 160/4796 (3.336113%)\n",
      "Step: 12 Attack Succ.: 175/5246 (3.335875%)\n",
      "Step: 13 Attack Succ.: 191/5656 (3.376945%)\n",
      "Step: 14 Attack Succ.: 201/6091 (3.299951%)\n",
      "Step: 15 Attack Succ.: 223/6517 (3.421820%)\n",
      "Step: 16 Attack Succ.: 234/6961 (3.361586%)\n",
      "Step: 17 Attack Succ.: 251/7399 (3.392350%)\n",
      "Step: 18 Attack Succ.: 266/7842 (3.391992%)\n",
      "Step: 19 Attack Succ.: 286/8266 (3.459956%)\n",
      "Step: 20 Attack Succ.: 295/8500 (3.470588%)\n",
      "Final Results\n",
      "Pred Correct: 8500, Correct: 8205, Total: 10000, \n",
      "Test Accuracy: 8500/10000 (85.000000%), \n",
      "Attack Succ: 295/8500 (3.470588%)\n",
      "\n"
     ]
    }
   ],
   "source": [
    "test_loader = torch.utils.data.DataLoader(\n",
    "    datasets.MNIST(dataroot, train=False, transform=transforms.Compose([\n",
    "                       transforms.ToTensor(),\n",
    "                       transforms.Normalize((0.1307,), (0.3081,))\n",
    "                   ])),\n",
    "    batch_size=512, shuffle=True)\n",
    "\n",
    "test(model2, test_loader, att.fgsm, eps=0.2)"
   ]
  },
  {
   "cell_type": "code",
   "execution_count": 13,
   "metadata": {},
   "outputs": [
    {
     "name": "stdout",
     "output_type": "stream",
     "text": [
      "Step: 1 Attack Succ.: 24/441 (5.442177%)\n",
      "Step: 2 Attack Succ.: 45/881 (5.107832%)\n",
      "Step: 3 Attack Succ.: 72/1327 (5.425772%)\n",
      "Step: 4 Attack Succ.: 97/1757 (5.520774%)\n",
      "Step: 5 Attack Succ.: 121/2197 (5.507510%)\n",
      "Step: 6 Attack Succ.: 147/2625 (5.600000%)\n",
      "Step: 7 Attack Succ.: 163/3059 (5.328539%)\n",
      "Step: 8 Attack Succ.: 190/3505 (5.420827%)\n",
      "Step: 9 Attack Succ.: 202/3934 (5.134723%)\n",
      "Step: 10 Attack Succ.: 224/4360 (5.137615%)\n",
      "Step: 11 Attack Succ.: 248/4803 (5.163440%)\n",
      "Step: 12 Attack Succ.: 271/5246 (5.165841%)\n",
      "Step: 13 Attack Succ.: 289/5682 (5.086237%)\n",
      "Step: 14 Attack Succ.: 308/6109 (5.041742%)\n",
      "Step: 15 Attack Succ.: 329/6545 (5.026738%)\n",
      "Step: 16 Attack Succ.: 353/6971 (5.063836%)\n",
      "Step: 17 Attack Succ.: 385/7408 (5.197084%)\n",
      "Step: 18 Attack Succ.: 413/7839 (5.268529%)\n",
      "Step: 19 Attack Succ.: 439/8272 (5.307060%)\n",
      "Step: 20 Attack Succ.: 458/8500 (5.388235%)\n",
      "Final Results\n",
      "Pred Correct: 8500, Correct: 8042, Total: 10000, \n",
      "Test Accuracy: 8500/10000 (85.000000%), \n",
      "Attack Succ: 458/8500 (5.388235%)\n",
      "\n"
     ]
    }
   ],
   "source": [
    "test_loader = torch.utils.data.DataLoader(\n",
    "    datasets.MNIST(dataroot, train=False, transform=transforms.Compose([\n",
    "                       transforms.ToTensor(),\n",
    "                       transforms.Normalize((0.1307,), (0.3081,))\n",
    "                   ])),\n",
    "    batch_size=512, shuffle=True)\n",
    "\n",
    "test(model2, test_loader, att.fgsm, eps=0.3)"
   ]
  },
  {
   "cell_type": "code",
   "execution_count": 14,
   "metadata": {},
   "outputs": [
    {
     "name": "stdout",
     "output_type": "stream",
     "text": [
      "Step: 1 Attack Succ.: 30/424 (7.075472%)\n",
      "Step: 2 Attack Succ.: 57/856 (6.658879%)\n",
      "Step: 3 Attack Succ.: 83/1290 (6.434109%)\n",
      "Step: 4 Attack Succ.: 117/1742 (6.716418%)\n",
      "Step: 5 Attack Succ.: 155/2173 (7.132996%)\n",
      "Step: 6 Attack Succ.: 190/2615 (7.265774%)\n",
      "Step: 7 Attack Succ.: 226/3047 (7.417132%)\n",
      "Step: 8 Attack Succ.: 257/3481 (7.382936%)\n",
      "Step: 9 Attack Succ.: 291/3909 (7.444359%)\n",
      "Step: 10 Attack Succ.: 312/4354 (7.165825%)\n",
      "Step: 11 Attack Succ.: 350/4784 (7.316054%)\n",
      "Step: 12 Attack Succ.: 385/5228 (7.364193%)\n",
      "Step: 13 Attack Succ.: 427/5662 (7.541505%)\n",
      "Step: 14 Attack Succ.: 459/6097 (7.528293%)\n",
      "Step: 15 Attack Succ.: 488/6540 (7.461774%)\n",
      "Step: 16 Attack Succ.: 518/6973 (7.428653%)\n",
      "Step: 17 Attack Succ.: 559/7413 (7.540807%)\n",
      "Step: 18 Attack Succ.: 593/7838 (7.565706%)\n",
      "Step: 19 Attack Succ.: 621/8268 (7.510885%)\n",
      "Step: 20 Attack Succ.: 640/8500 (7.529412%)\n",
      "Final Results\n",
      "Pred Correct: 8500, Correct: 7860, Total: 10000, \n",
      "Test Accuracy: 8500/10000 (85.000000%), \n",
      "Attack Succ: 640/8500 (7.529412%)\n",
      "\n"
     ]
    }
   ],
   "source": [
    "test_loader = torch.utils.data.DataLoader(\n",
    "    datasets.MNIST(dataroot, train=False, transform=transforms.Compose([\n",
    "                       transforms.ToTensor(),\n",
    "                       transforms.Normalize((0.1307,), (0.3081,))\n",
    "                   ])),\n",
    "    batch_size=512, shuffle=True)\n",
    "\n",
    "test(model2, test_loader, att.fgsm, eps=0.4)"
   ]
  },
  {
   "cell_type": "code",
   "execution_count": null,
   "metadata": {},
   "outputs": [],
   "source": []
  }
 ],
 "metadata": {
  "kernelspec": {
   "display_name": "Python [conda env:tensorflow]",
   "language": "python",
   "name": "conda-env-tensorflow-py"
  },
  "language_info": {
   "codemirror_mode": {
    "name": "ipython",
    "version": 3
   },
   "file_extension": ".py",
   "mimetype": "text/x-python",
   "name": "python",
   "nbconvert_exporter": "python",
   "pygments_lexer": "ipython3",
   "version": "3.5.6"
  }
 },
 "nbformat": 4,
 "nbformat_minor": 2
}
