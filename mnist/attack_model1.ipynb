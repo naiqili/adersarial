{
 "cells": [
  {
   "cell_type": "code",
   "execution_count": 1,
   "metadata": {},
   "outputs": [],
   "source": [
    "import argparse\n",
    "import torch\n",
    "import torch.nn as nn\n",
    "import torch.nn.functional as F\n",
    "import torch.optim as optim\n",
    "import matplotlib.pyplot as plt\n",
    "import numpy as np\n",
    "from torch.autograd import Variable\n",
    "from torch.utils.data.dataset import random_split\n",
    "from torchvision import datasets, transforms"
   ]
  },
  {
   "cell_type": "code",
   "execution_count": 2,
   "metadata": {},
   "outputs": [],
   "source": [
    "class Attack(object):\n",
    "    def __init__(self, net, criterion):\n",
    "        self.net = net\n",
    "        self.criterion = criterion\n",
    "\n",
    "    def fgsm(self, x, y, targeted=False, eps=0.03, x_val_min=-1, x_val_max=1):\n",
    "        x_adv = x.cuda().requires_grad_(True)\n",
    "        h_adv = self.net(x_adv)\n",
    "        self.net.zero_grad()\n",
    "        if x_adv.grad is not None:\n",
    "            x_adv.grad.data.fill_(0)\n",
    "        if targeted:\n",
    "            cost = self.criterion(h_adv, y.cuda())\n",
    "        else:\n",
    "            cost = -self.criterion(h_adv, y.cuda())\n",
    "\n",
    "        cost.backward()\n",
    "\n",
    "        x_adv.grad.sign_()\n",
    "        x_adv = x_adv - eps*x_adv.grad\n",
    "        x_adv = torch.clamp(x_adv, x_val_min, x_val_max)\n",
    "\n",
    "\n",
    "        h = self.net(x.cuda())\n",
    "        h_adv = self.net(x_adv)\n",
    "\n",
    "        return x_adv, h_adv, h\n",
    "\n",
    "    def i_fgsm(self, x, y, targeted=False, eps=0.03, alpha=1, iteration=1, x_val_min=-1, x_val_max=1):\n",
    "        x_adv = Variable(x.data, requires_grad=True)\n",
    "        for i in range(iteration):\n",
    "            h_adv = self.net(x_adv)\n",
    "            if targeted:\n",
    "                cost = self.criterion(h_adv, y)\n",
    "            else:\n",
    "                cost = -self.criterion(h_adv, y)\n",
    "\n",
    "            self.net.zero_grad()\n",
    "            if x_adv.grad is not None:\n",
    "                x_adv.grad.data.fill_(0)\n",
    "            cost.backward()\n",
    "\n",
    "            x_adv.grad.sign_()\n",
    "            x_adv = x_adv - alpha*x_adv.grad\n",
    "            x_adv = torch.clamp(x_adv, x-eps, x+eps)\n",
    "            x_adv = torch.clamp(x_adv, x_val_min, x_val_max)\n",
    "            x_adv = Variable(x_adv.data, requires_grad=True)\n",
    "\n",
    "        h = self.net(x)\n",
    "        h_adv = self.net(x_adv)\n",
    "\n",
    "        return x_adv, h_adv, h"
   ]
  },
  {
   "cell_type": "code",
   "execution_count": 3,
   "metadata": {},
   "outputs": [],
   "source": [
    "def imshow(img):\n",
    "    npimg = img.numpy()\n",
    "    npimg = npimg / 2 + 0.5     # unnormalize\n",
    "    plt.figure(figsize=(2,2))\n",
    "    plt.imshow(npimg.reshape(npimg.shape[1: 3]), cmap='gray')\n",
    "    plt.show()"
   ]
  },
  {
   "cell_type": "code",
   "execution_count": 4,
   "metadata": {},
   "outputs": [],
   "source": [
    "def test(model, test_loader, att_fn, eps=0.3):\n",
    "    model.eval()\n",
    "    correct = 0\n",
    "    pred_correct = 0 # normal pred same as ground truth\n",
    "    for idx, (data, target) in enumerate(test_loader):\n",
    "        data, target = data.to('cuda'), target.to('cuda')\n",
    "        x_adv, h_adv, h = att_fn(data, target, eps=eps)\n",
    "        norm_pred = h.max(1, keepdim=True)[1].view(-1)\n",
    "        adv_pred = h_adv.max(1, keepdim=True)[1].view(-1)\n",
    "        pred_truth = norm_pred.eq(target)\n",
    "        pred_correct += pred_truth.sum().item()\n",
    "        correct += (pred_truth * norm_pred.eq(adv_pred)).sum().item()\n",
    "        if (idx+1) % 100 == 0:\n",
    "            print('Test Accuracy: {}/{} ({:.6f}%)'.format(\n",
    "                correct, pred_correct,\n",
    "                100. * correct / pred_correct))\n",
    "\n",
    "    print('Final Results\\nPred Correct: {}, Correct: {}, Total: {}, \\nTest Accuracy: {}/{} ({:.6f}%), \\nAttack Succ: {}/{} ({:.6f}%)\\n'.format(\n",
    "        pred_correct, correct, len(test_loader.dataset),\n",
    "        pred_correct, len(test_loader.dataset),\n",
    "        100. * pred_correct / len(test_loader.dataset),\n",
    "        pred_correct-correct, pred_correct,\n",
    "        100. * (pred_correct-correct) / pred_correct))"
   ]
  },
  {
   "cell_type": "markdown",
   "metadata": {},
   "source": [
    "# FGSM"
   ]
  },
  {
   "cell_type": "code",
   "execution_count": 5,
   "metadata": {},
   "outputs": [
    {
     "name": "stdout",
     "output_type": "stream",
     "text": [
      "Net(\n",
      "  (fc1): Linear(in_features=784, out_features=128, bias=True)\n",
      "  (fc2): Linear(in_features=128, out_features=256, bias=True)\n",
      "  (fc3): Linear(in_features=256, out_features=10, bias=True)\n",
      ")\n"
     ]
    }
   ],
   "source": [
    "dataroot = 'D:/Lab/dataset'\n",
    "model_file = './models/model1.md'\n",
    "\n",
    "class Net(nn.Module):\n",
    "    def __init__(self):\n",
    "        super(Net, self).__init__()\n",
    "        self.fc1 = nn.Linear(28*28, 128)\n",
    "        self.fc2 = nn.Linear(128, 256)\n",
    "        self.fc3 = nn.Linear(256, 10)\n",
    "\n",
    "    def forward(self, x):\n",
    "        x = x.view(-1, 28*28)\n",
    "        x = F.relu(self.fc1(x))\n",
    "        x = F.relu(self.fc2(x))\n",
    "        x = F.dropout(x, training=self.training)\n",
    "        x = self.fc3(x)\n",
    "        return F.log_softmax(x, dim=1) \n",
    "\n",
    "model = torch.load(model_file)\n",
    "\n",
    "print(model)"
   ]
  },
  {
   "cell_type": "code",
   "execution_count": 6,
   "metadata": {},
   "outputs": [
    {
     "data": {
      "image/png": "[encoded data removed]",
      "text/plain": [
       "<Figure size 144x144 with 1 Axes>"
      ]
     },
     "metadata": {
      "needs_background": "light"
     },
     "output_type": "display_data"
    },
    {
     "name": "stdout",
     "output_type": "stream",
     "text": [
      "tensor([0])\n"
     ]
    },
    {
     "data": {
      "image/png": "[encoded data removed]",
      "text/plain": [
       "<Figure size 144x144 with 1 Axes>"
      ]
     },
     "metadata": {
      "needs_background": "light"
     },
     "output_type": "display_data"
    },
    {
     "name": "stdout",
     "output_type": "stream",
     "text": [
      "Normal Pred: 0, Adv. Pred: 7\n"
     ]
    },
    {
     "data": {
      "image/png": "[encoded data removed]",
      "text/plain": [
       "<Figure size 144x144 with 1 Axes>"
      ]
     },
     "metadata": {
      "needs_background": "light"
     },
     "output_type": "display_data"
    },
    {
     "name": "stdout",
     "output_type": "stream",
     "text": [
      "tensor([4])\n"
     ]
    },
    {
     "data": {
      "image/png": "[encoded data removed]",
      "text/plain": [
       "<Figure size 144x144 with 1 Axes>"
      ]
     },
     "metadata": {
      "needs_background": "light"
     },
     "output_type": "display_data"
    },
    {
     "name": "stdout",
     "output_type": "stream",
     "text": [
      "Normal Pred: 4, Adv. Pred: 9\n"
     ]
    },
    {
     "data": {
      "image/png": "[encoded data removed]",
      "text/plain": [
       "<Figure size 144x144 with 1 Axes>"
      ]
     },
     "metadata": {
      "needs_background": "light"
     },
     "output_type": "display_data"
    },
    {
     "name": "stdout",
     "output_type": "stream",
     "text": [
      "tensor([7])\n"
     ]
    },
    {
     "data": {
      "image/png": "[encoded data removed]",
      "text/plain": [
       "<Figure size 144x144 with 1 Axes>"
      ]
     },
     "metadata": {
      "needs_background": "light"
     },
     "output_type": "display_data"
    },
    {
     "name": "stdout",
     "output_type": "stream",
     "text": [
      "Normal Pred: 7, Adv. Pred: 9\n"
     ]
    },
    {
     "data": {
      "image/png": "[encoded data removed]",
      "text/plain": [
       "<Figure size 144x144 with 1 Axes>"
      ]
     },
     "metadata": {
      "needs_background": "light"
     },
     "output_type": "display_data"
    },
    {
     "name": "stdout",
     "output_type": "stream",
     "text": [
      "tensor([0])\n"
     ]
    },
    {
     "data": {
      "image/png": "[encoded data removed]",
      "text/plain": [
       "<Figure size 144x144 with 1 Axes>"
      ]
     },
     "metadata": {
      "needs_background": "light"
     },
     "output_type": "display_data"
    },
    {
     "name": "stdout",
     "output_type": "stream",
     "text": [
      "Normal Pred: 0, Adv. Pred: 6\n"
     ]
    },
    {
     "data": {
      "image/png": "[encoded data removed]",
      "text/plain": [
       "<Figure size 144x144 with 1 Axes>"
      ]
     },
     "metadata": {
      "needs_background": "light"
     },
     "output_type": "display_data"
    },
    {
     "name": "stdout",
     "output_type": "stream",
     "text": [
      "tensor([4])\n"
     ]
    },
    {
     "data": {
      "image/png": "[encoded data removed]",
      "text/plain": [
       "<Figure size 144x144 with 1 Axes>"
      ]
     },
     "metadata": {
      "needs_background": "light"
     },
     "output_type": "display_data"
    },
    {
     "name": "stdout",
     "output_type": "stream",
     "text": [
      "Normal Pred: 4, Adv. Pred: 9\n"
     ]
    },
    {
     "data": {
      "image/png": "[encoded data removed]",
      "text/plain": [
       "<Figure size 144x144 with 1 Axes>"
      ]
     },
     "metadata": {
      "needs_background": "light"
     },
     "output_type": "display_data"
    },
    {
     "name": "stdout",
     "output_type": "stream",
     "text": [
      "tensor([8])\n"
     ]
    },
    {
     "data": {
      "image/png": "[encoded data removed]",
      "text/plain": [
       "<Figure size 144x144 with 1 Axes>"
      ]
     },
     "metadata": {
      "needs_background": "light"
     },
     "output_type": "display_data"
    },
    {
     "name": "stdout",
     "output_type": "stream",
     "text": [
      "Normal Pred: 8, Adv. Pred: 3\n"
     ]
    },
    {
     "data": {
      "image/png": "[encoded data removed]",
      "text/plain": [
       "<Figure size 144x144 with 1 Axes>"
      ]
     },
     "metadata": {
      "needs_background": "light"
     },
     "output_type": "display_data"
    },
    {
     "name": "stdout",
     "output_type": "stream",
     "text": [
      "tensor([4])\n"
     ]
    },
    {
     "data": {
      "image/png": "[encoded data removed]",
      "text/plain": [
       "<Figure size 144x144 with 1 Axes>"
      ]
     },
     "metadata": {
      "needs_background": "light"
     },
     "output_type": "display_data"
    },
    {
     "name": "stdout",
     "output_type": "stream",
     "text": [
      "Normal Pred: 4, Adv. Pred: 9\n"
     ]
    },
    {
     "data": {
      "image/png": "[encoded data removed]",
      "text/plain": [
       "<Figure size 144x144 with 1 Axes>"
      ]
     },
     "metadata": {
      "needs_background": "light"
     },
     "output_type": "display_data"
    },
    {
     "name": "stdout",
     "output_type": "stream",
     "text": [
      "tensor([7])\n"
     ]
    },
    {
     "data": {
      "image/png": "[encoded data removed]",
      "text/plain": [
       "<Figure size 144x144 with 1 Axes>"
      ]
     },
     "metadata": {
      "needs_background": "light"
     },
     "output_type": "display_data"
    },
    {
     "name": "stdout",
     "output_type": "stream",
     "text": [
      "Normal Pred: 7, Adv. Pred: 5\n"
     ]
    },
    {
     "data": {
      "image/png": "[encoded data removed]",
      "text/plain": [
       "<Figure size 144x144 with 1 Axes>"
      ]
     },
     "metadata": {
      "needs_background": "light"
     },
     "output_type": "display_data"
    },
    {
     "name": "stdout",
     "output_type": "stream",
     "text": [
      "tensor([1])\n"
     ]
    },
    {
     "data": {
      "image/png": "[encoded data removed]",
      "text/plain": [
       "<Figure size 144x144 with 1 Axes>"
      ]
     },
     "metadata": {
      "needs_background": "light"
     },
     "output_type": "display_data"
    },
    {
     "name": "stdout",
     "output_type": "stream",
     "text": [
      "Normal Pred: 1, Adv. Pred: 8\n"
     ]
    },
    {
     "data": {
      "image/png": "[encoded data removed]",
      "text/plain": [
       "<Figure size 144x144 with 1 Axes>"
      ]
     },
     "metadata": {
      "needs_background": "light"
     },
     "output_type": "display_data"
    },
    {
     "name": "stdout",
     "output_type": "stream",
     "text": [
      "tensor([7])\n"
     ]
    },
    {
     "data": {
      "image/png": "[encoded data removed]",
      "text/plain": [
       "<Figure size 144x144 with 1 Axes>"
      ]
     },
     "metadata": {
      "needs_background": "light"
     },
     "output_type": "display_data"
    },
    {
     "name": "stdout",
     "output_type": "stream",
     "text": [
      "Normal Pred: 7, Adv. Pred: 3\n"
     ]
    },
    {
     "data": {
      "image/png": "[encoded data removed]",
      "text/plain": [
       "<Figure size 144x144 with 1 Axes>"
      ]
     },
     "metadata": {
      "needs_background": "light"
     },
     "output_type": "display_data"
    },
    {
     "name": "stdout",
     "output_type": "stream",
     "text": [
      "tensor([7])\n"
     ]
    },
    {
     "data": {
      "image/png": "[encoded data removed]",
      "text/plain": [
       "<Figure size 144x144 with 1 Axes>"
      ]
     },
     "metadata": {
      "needs_background": "light"
     },
     "output_type": "display_data"
    },
    {
     "name": "stdout",
     "output_type": "stream",
     "text": [
      "Normal Pred: 7, Adv. Pred: 2\n"
     ]
    },
    {
     "data": {
      "image/png": "[encoded data removed]",
      "text/plain": [
       "<Figure size 144x144 with 1 Axes>"
      ]
     },
     "metadata": {
      "needs_background": "light"
     },
     "output_type": "display_data"
    },
    {
     "name": "stdout",
     "output_type": "stream",
     "text": [
      "tensor([1])\n"
     ]
    },
    {
     "data": {
      "image/png": "[encoded data removed]",
      "text/plain": [
       "<Figure size 144x144 with 1 Axes>"
      ]
     },
     "metadata": {
      "needs_background": "light"
     },
     "output_type": "display_data"
    },
    {
     "name": "stdout",
     "output_type": "stream",
     "text": [
      "Normal Pred: 1, Adv. Pred: 8\n"
     ]
    },
    {
     "data": {
      "image/png": "[encoded data removed]",
      "text/plain": [
       "<Figure size 144x144 with 1 Axes>"
      ]
     },
     "metadata": {
      "needs_background": "light"
     },
     "output_type": "display_data"
    },
    {
     "name": "stdout",
     "output_type": "stream",
     "text": [
      "tensor([9])\n"
     ]
    },
    {
     "data": {
      "image/png": "[encoded data removed]",
      "text/plain": [
       "<Figure size 144x144 with 1 Axes>"
      ]
     },
     "metadata": {
      "needs_background": "light"
     },
     "output_type": "display_data"
    },
    {
     "name": "stdout",
     "output_type": "stream",
     "text": [
      "Normal Pred: 9, Adv. Pred: 7\n"
     ]
    },
    {
     "data": {
      "image/png": "[encoded data removed]",
      "text/plain": [
       "<Figure size 144x144 with 1 Axes>"
      ]
     },
     "metadata": {
      "needs_background": "light"
     },
     "output_type": "display_data"
    },
    {
     "name": "stdout",
     "output_type": "stream",
     "text": [
      "tensor([7])\n"
     ]
    },
    {
     "data": {
      "image/png": "[encoded data removed]",
      "text/plain": [
       "<Figure size 144x144 with 1 Axes>"
      ]
     },
     "metadata": {
      "needs_background": "light"
     },
     "output_type": "display_data"
    },
    {
     "name": "stdout",
     "output_type": "stream",
     "text": [
      "Normal Pred: 7, Adv. Pred: 2\n"
     ]
    },
    {
     "data": {
      "image/png": "[encoded data removed]",
      "text/plain": [
       "<Figure size 144x144 with 1 Axes>"
      ]
     },
     "metadata": {
      "needs_background": "light"
     },
     "output_type": "display_data"
    },
    {
     "name": "stdout",
     "output_type": "stream",
     "text": [
      "tensor([4])\n"
     ]
    },
    {
     "data": {
      "image/png": "[encoded data removed]",
      "text/plain": [
       "<Figure size 144x144 with 1 Axes>"
      ]
     },
     "metadata": {
      "needs_background": "light"
     },
     "output_type": "display_data"
    },
    {
     "name": "stdout",
     "output_type": "stream",
     "text": [
      "Normal Pred: 4, Adv. Pred: 2\n"
     ]
    },
    {
     "data": {
      "image/png": "[encoded data removed]",
      "text/plain": [
       "<Figure size 144x144 with 1 Axes>"
      ]
     },
     "metadata": {
      "needs_background": "light"
     },
     "output_type": "display_data"
    },
    {
     "name": "stdout",
     "output_type": "stream",
     "text": [
      "tensor([8])\n"
     ]
    },
    {
     "data": {
      "image/png": "[encoded data removed]",
      "text/plain": [
       "<Figure size 144x144 with 1 Axes>"
      ]
     },
     "metadata": {
      "needs_background": "light"
     },
     "output_type": "display_data"
    },
    {
     "name": "stdout",
     "output_type": "stream",
     "text": [
      "Normal Pred: 8, Adv. Pred: 5\n"
     ]
    },
    {
     "data": {
      "image/png": "[encoded data removed]",
      "text/plain": [
       "<Figure size 144x144 with 1 Axes>"
      ]
     },
     "metadata": {
      "needs_background": "light"
     },
     "output_type": "display_data"
    },
    {
     "name": "stdout",
     "output_type": "stream",
     "text": [
      "tensor([4])\n"
     ]
    },
    {
     "data": {
      "image/png": "[encoded data removed]",
      "text/plain": [
       "<Figure size 144x144 with 1 Axes>"
      ]
     },
     "metadata": {
      "needs_background": "light"
     },
     "output_type": "display_data"
    },
    {
     "name": "stdout",
     "output_type": "stream",
     "text": [
      "Normal Pred: 4, Adv. Pred: 8\n"
     ]
    },
    {
     "data": {
      "image/png": "[encoded data removed]",
      "text/plain": [
       "<Figure size 144x144 with 1 Axes>"
      ]
     },
     "metadata": {
      "needs_background": "light"
     },
     "output_type": "display_data"
    },
    {
     "name": "stdout",
     "output_type": "stream",
     "text": [
      "tensor([8])\n"
     ]
    },
    {
     "data": {
      "image/png": "[encoded data removed]",
      "text/plain": [
       "<Figure size 144x144 with 1 Axes>"
      ]
     },
     "metadata": {
      "needs_background": "light"
     },
     "output_type": "display_data"
    },
    {
     "name": "stdout",
     "output_type": "stream",
     "text": [
      "Normal Pred: 8, Adv. Pred: 9\n"
     ]
    },
    {
     "data": {
      "image/png": "[encoded data removed]",
      "text/plain": [
       "<Figure size 144x144 with 1 Axes>"
      ]
     },
     "metadata": {
      "needs_background": "light"
     },
     "output_type": "display_data"
    },
    {
     "name": "stdout",
     "output_type": "stream",
     "text": [
      "tensor([0])\n"
     ]
    },
    {
     "data": {
      "image/png": "[encoded data removed]",
      "text/plain": [
       "<Figure size 144x144 with 1 Axes>"
      ]
     },
     "metadata": {
      "needs_background": "light"
     },
     "output_type": "display_data"
    },
    {
     "name": "stdout",
     "output_type": "stream",
     "text": [
      "Normal Pred: 0, Adv. Pred: 6\n"
     ]
    },
    {
     "data": {
      "image/png": "[encoded data removed]",
      "text/plain": [
       "<Figure size 144x144 with 1 Axes>"
      ]
     },
     "metadata": {
      "needs_background": "light"
     },
     "output_type": "display_data"
    },
    {
     "name": "stdout",
     "output_type": "stream",
     "text": [
      "tensor([4])\n"
     ]
    },
    {
     "data": {
      "image/png": "[encoded data removed]",
      "text/plain": [
       "<Figure size 144x144 with 1 Axes>"
      ]
     },
     "metadata": {
      "needs_background": "light"
     },
     "output_type": "display_data"
    },
    {
     "name": "stdout",
     "output_type": "stream",
     "text": [
      "Normal Pred: 4, Adv. Pred: 8\n"
     ]
    }
   ],
   "source": [
    "test_loader = torch.utils.data.DataLoader(\n",
    "    datasets.MNIST(dataroot, train=False, transform=transforms.Compose([\n",
    "                       transforms.ToTensor(),\n",
    "                       transforms.Normalize((0.1307,), (0.3081,))\n",
    "                   ])),\n",
    "    batch_size=1, shuffle=True)\n",
    "\n",
    "# get some random training images\n",
    "dataiter = iter(test_loader)\n",
    "for _ in range(20):\n",
    "    image, label = dataiter.next()\n",
    "\n",
    "    imshow(image[0])\n",
    "    print(label)\n",
    "\n",
    "    att = Attack(model, F.nll_loss)\n",
    "    x_adv, h_adv, h = att.fgsm(image, label, eps=0.3)\n",
    "\n",
    "    imshow(x_adv[0].cpu().detach())\n",
    "    norm_pred = h.max(1, keepdim=True)[1].cpu().numpy().reshape(1)[0]\n",
    "    adv_pred = h_adv.max(1, keepdim=True)[1].cpu().numpy().reshape(1)[0]\n",
    "\n",
    "    print('Normal Pred: {}, Adv. Pred: {}'.format(norm_pred, adv_pred))"
   ]
  },
  {
   "cell_type": "code",
   "execution_count": 7,
   "metadata": {},
   "outputs": [
    {
     "name": "stdout",
     "output_type": "stream",
     "text": [
      "Test Accuracy: 736/969 (75.954592%)\n",
      "Test Accuracy: 1476/1948 (75.770021%)\n",
      "Test Accuracy: 2214/2929 (75.588938%)\n",
      "Test Accuracy: 2975/3907 (76.145380%)\n",
      "Test Accuracy: 3726/4888 (76.227496%)\n",
      "Test Accuracy: 4450/5868 (75.835037%)\n",
      "Test Accuracy: 5173/6839 (75.639713%)\n",
      "Test Accuracy: 5896/7814 (75.454313%)\n",
      "Test Accuracy: 6629/8793 (75.389514%)\n",
      "Test Accuracy: 7384/9770 (75.578301%)\n",
      "Final Results\n",
      "Pred Correct: 9770, Correct: 7384, Total: 10000, \n",
      "Test Accuracy: 9770/10000 (97.700000%), \n",
      "Attack Succ: 2386/9770 (24.421699%)\n",
      "\n"
     ]
    }
   ],
   "source": [
    "test_loader = torch.utils.data.DataLoader(\n",
    "    datasets.MNIST(dataroot, train=False, transform=transforms.Compose([\n",
    "                       transforms.ToTensor(),\n",
    "                       transforms.Normalize((0.1307,), (0.3081,))\n",
    "                   ])),\n",
    "    batch_size=512, shuffle=True)\n",
    "\n",
    "test(model, test_loader, att.fgsm, eps=0.05)"
   ]
  },
  {
   "cell_type": "code",
   "execution_count": 8,
   "metadata": {},
   "outputs": [
    {
     "name": "stdout",
     "output_type": "stream",
     "text": [
      "Test Accuracy: 318/976 (32.581967%)\n",
      "Test Accuracy: 624/1961 (31.820500%)\n",
      "Test Accuracy: 941/2940 (32.006803%)\n",
      "Test Accuracy: 1249/3915 (31.902937%)\n",
      "Test Accuracy: 1535/4884 (31.429156%)\n",
      "Test Accuracy: 1857/5855 (31.716482%)\n",
      "Test Accuracy: 2167/6836 (31.699824%)\n",
      "Test Accuracy: 2490/7819 (31.845505%)\n",
      "Test Accuracy: 2809/8797 (31.931340%)\n",
      "Test Accuracy: 3128/9770 (32.016377%)\n",
      "Final Results\n",
      "Pred Correct: 9770, Correct: 3128, Total: 10000, \n",
      "Test Accuracy: 9770/10000 (97.700000%), \n",
      "Attack Succ: 6642/9770 (67.983623%)\n",
      "\n"
     ]
    }
   ],
   "source": [
    "test_loader = torch.utils.data.DataLoader(\n",
    "    datasets.MNIST(dataroot, train=False, transform=transforms.Compose([\n",
    "                       transforms.ToTensor(),\n",
    "                       transforms.Normalize((0.1307,), (0.3081,))\n",
    "                   ])),\n",
    "    batch_size=512, shuffle=True)\n",
    "\n",
    "test(model, test_loader, att.fgsm, eps=0.1)"
   ]
  },
  {
   "cell_type": "code",
   "execution_count": 9,
   "metadata": {},
   "outputs": [
    {
     "name": "stdout",
     "output_type": "stream",
     "text": [
      "Test Accuracy: 47/969 (4.850361%)\n",
      "Test Accuracy: 106/1945 (5.449871%)\n",
      "Test Accuracy: 158/2917 (5.416524%)\n",
      "Test Accuracy: 235/3894 (6.034926%)\n",
      "Test Accuracy: 293/4873 (6.012723%)\n",
      "Test Accuracy: 345/5852 (5.895420%)\n",
      "Test Accuracy: 395/6824 (5.788394%)\n",
      "Test Accuracy: 470/7801 (6.024869%)\n",
      "Test Accuracy: 520/8786 (5.918507%)\n",
      "Test Accuracy: 577/9770 (5.905834%)\n",
      "Final Results\n",
      "Pred Correct: 9770, Correct: 577, Total: 10000, \n",
      "Test Accuracy: 9770/10000 (97.700000%), \n",
      "Attack Succ: 9193/9770 (94.094166%)\n",
      "\n"
     ]
    }
   ],
   "source": [
    "test_loader = torch.utils.data.DataLoader(\n",
    "    datasets.MNIST(dataroot, train=False, transform=transforms.Compose([\n",
    "                       transforms.ToTensor(),\n",
    "                       transforms.Normalize((0.1307,), (0.3081,))\n",
    "                   ])),\n",
    "    batch_size=512, shuffle=True)\n",
    "\n",
    "test(model, test_loader, att.fgsm, eps=0.2)"
   ]
  },
  {
   "cell_type": "code",
   "execution_count": null,
   "metadata": {},
   "outputs": [],
   "source": []
  }
 ],
 "metadata": {
  "kernelspec": {
   "display_name": "Python [conda env:tensorflow]",
   "language": "python",
   "name": "conda-env-tensorflow-py"
  },
  "language_info": {
   "codemirror_mode": {
    "name": "ipython",
    "version": 3
   },
   "file_extension": ".py",
   "mimetype": "text/x-python",
   "name": "python",
   "nbconvert_exporter": "python",
   "pygments_lexer": "ipython3",
   "version": "3.5.6"
  }
 },
 "nbformat": 4,
 "nbformat_minor": 2
}
