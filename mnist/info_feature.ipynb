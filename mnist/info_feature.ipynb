{
 "cells": [
  {
   "cell_type": "code",
   "execution_count": 1,
   "metadata": {},
   "outputs": [],
   "source": [
    "import numpy as np"
   ]
  },
  {
   "cell_type": "code",
   "execution_count": 2,
   "metadata": {},
   "outputs": [
    {
     "name": "stdout",
     "output_type": "stream",
     "text": [
      "[[1 0 0]\n",
      " [1 1 0]]\n",
      "[1 2 3 4 5 6]\n"
     ]
    }
   ],
   "source": [
    "dim = 28*28 # dim of the original img\n",
    "q_dim = 2 # dim of the quantized img\n",
    "\n",
    "# test data matrix\n",
    "X = np.asarray([[1,0,0],[1,1,0]])\n",
    "# test f\n",
    "f = np.asarray([1, 2, 3, 4, 5, 6])\n",
    "\n",
    "print(X)\n",
    "print(f)"
   ]
  },
  {
   "cell_type": "code",
   "execution_count": 3,
   "metadata": {},
   "outputs": [
    {
     "name": "stdout",
     "output_type": "stream",
     "text": [
      "[[0 1 1 0 1 0]\n",
      " [0 1 0 1 1 0]]\n",
      "[0.  1.  0.5 0.5 1.  0. ]\n"
     ]
    }
   ],
   "source": [
    "# maps a pixel to quantized index\n",
    "def q_map(x, threshold=0.4):\n",
    "    if x < threshold:\n",
    "        return 0\n",
    "    else:\n",
    "        return 1\n",
    "    \n",
    "# given a data matrix, returns the mask\n",
    "def q_mask(X):\n",
    "    mask = np.zeros((X.shape[0], X.shape[1]*q_dim), dtype=np.int)\n",
    "    for i in range(X.shape[0]):\n",
    "        for j in range(X.shape[1]):\n",
    "            mask[i, j*q_dim+q_map(X[i,j])] = 1\n",
    "    norm_p = np.sum(mask, axis=0) / X.shape[0]\n",
    "    return mask, norm_p\n",
    "            \n",
    "mask, norm_p = q_mask(X)\n",
    "print(mask)\n",
    "print(norm_p)"
   ]
  },
  {
   "cell_type": "code",
   "execution_count": 4,
   "metadata": {},
   "outputs": [
    {
     "name": "stdout",
     "output_type": "stream",
     "text": [
      "[[0 1 1 0 1 0]\n",
      " [0 1 0 1 1 0]]\n",
      "[1 0]\n",
      "[ True False]\n",
      "[[1 2 3 4 5 6]\n",
      " [1 2 3 4 5 6]]\n",
      "[[1 2 0 4 5 6]\n",
      " [1 2 0 4 5 6]]\n",
      "[[0 2 0 0 5 0]\n",
      " [0 2 0 4 5 0]]\n",
      "[[0 2 0 0 5 0]\n",
      " [0 0 0 0 0 0]]\n",
      "7.0\n",
      "[[0 1 2]\n",
      " [3 4 5]]\n",
      "[[ 0  1  4]\n",
      " [ 9 16 25]]\n"
     ]
    }
   ],
   "source": [
    "# Playground for numpy\n",
    "print(mask)\n",
    "print(mask[:, 2*1])\n",
    "b = mask[:, 2*1] == 1\n",
    "print(mask[:, 2*1] == 1)\n",
    "\n",
    "f_ext = np.tile(f, (mask.shape[0], 1))\n",
    "print(f_ext)\n",
    "\n",
    "f_ext[:, 2].fill(0)\n",
    "print(f_ext)\n",
    "\n",
    "print(f_ext*mask)\n",
    "tmp = b.reshape(mask.shape[0], -1)*f_ext*mask\n",
    "print(tmp)\n",
    "print(np.sum(np.sum(tmp, axis=1)) / np.sum(b))\n",
    "\n",
    "a = np.arange(6).reshape(2,3)\n",
    "print(a)\n",
    "print(a**2)"
   ]
  },
  {
   "cell_type": "code",
   "execution_count": 6,
   "metadata": {},
   "outputs": [
    {
     "name": "stdout",
     "output_type": "stream",
     "text": [
      "[[1 0 0]\n",
      " [1 1 0]]\n",
      "[1 2 3 4 5 6]\n",
      "[0.05675044 0.56750435 0.56750435 0.62425479 0.56750435 0.34050261]\n"
     ]
    }
   ],
   "source": [
    "# X: data matrix\n",
    "# feature extracting func\n",
    "def ACE_step(X, f, mask, norm_p):\n",
    "    # E[sum f(X_j)|X_i], res is f.dim = data.dim*q_dim\n",
    "    def expect_cond(X, f):\n",
    "        res = np.zeros_like(f)\n",
    "        for j in range(f.shape[0]):\n",
    "            b = (mask[:, j] == 1)\n",
    "            f_ext = np.tile(f, (X.shape[0], 1))\n",
    "            f_ext[:, j].fill(0)\n",
    "            tmp = b.reshape(mask.shape[0], -1)*f_ext*mask\n",
    "            if np.sum(b) > 0:\n",
    "                res[j] = np.sum(np.sum(tmp, axis=1)) / np.sum(b)\n",
    "        return res\n",
    "    \n",
    "    # sqrt(E[sum f(X_i)^2])\n",
    "    def expect_var(X, f):\n",
    "        # sum_cov = np.sum(np.sum((np.tile(f, (X.shape[0], 1))*mask)**2))\n",
    "        # e_cov = sum_cov / X.shape[0]\n",
    "        # res = np.sqrt(e_cov)\n",
    "        \n",
    "        res = np.sqrt(np.sum((f**2) * norm_p))\n",
    "        return res\n",
    "    \n",
    "    e_cond = expect_cond(X, f)\n",
    "    new_f = f + e_cond\n",
    "    cov = expect_var(X, new_f)\n",
    "    \n",
    "    new_f = new_f / cov\n",
    "    return new_f\n",
    "\n",
    "print(X)\n",
    "print(f)\n",
    "print(ACE_step(X, f, mask, norm_p))"
   ]
  },
  {
   "cell_type": "code",
   "execution_count": 7,
   "metadata": {},
   "outputs": [
    {
     "name": "stdout",
     "output_type": "stream",
     "text": [
      "[-0.13288444  0.13288444 -0.37864779  0.37864779 -0.03680652  0.03680652]\n",
      "[-0.0964853   0.0964853   0.2896539  -0.2896539  -0.02676792  0.02676792]\n",
      "[-0.00364475  0.00364475 -0.0639841   0.0639841  -0.04220496  0.04220496]\n"
     ]
    }
   ],
   "source": [
    "def init_f(dim=28*28, q_dim=2):\n",
    "    res_dim = dim * q_dim\n",
    "    res = np.random.rand(res_dim)\n",
    "    for j in range(dim):\n",
    "        res[j*q_dim : (j+1)*q_dim] -= np.sum(res[j*q_dim : (j+1)*q_dim])/2\n",
    "    return res\n",
    "\n",
    "print(init_f(3))\n",
    "print(init_f(3))\n",
    "print(init_f(3))"
   ]
  },
  {
   "cell_type": "code",
   "execution_count": 18,
   "metadata": {},
   "outputs": [
    {
     "name": "stdout",
     "output_type": "stream",
     "text": [
      "[ 0.03845616 -0.57735018 -0.57680789 -0.57789248 -0.57735018 -0.01707282]\n"
     ]
    }
   ],
   "source": [
    "def ACE_f(X, mask, norm_p, dim=28*28, q_dim=2, epsilon=0.01, max_step=500):\n",
    "    f_1 = init_f(dim, q_dim)\n",
    "    for _ in range(max_step):\n",
    "        f_2 = ACE_step(X, f_1, mask, norm_p)\n",
    "        delta = np.sum((f_1 - f_2)**2)\n",
    "        f_1 = f_2\n",
    "        # print(delta)\n",
    "        if delta < epsilon:\n",
    "            break\n",
    "    return f_1\n",
    "\n",
    "l = ACE_f(X, mask, norm_p, 3)\n",
    "print(l)"
   ]
  },
  {
   "cell_type": "code",
   "execution_count": 19,
   "metadata": {},
   "outputs": [],
   "source": [
    "def norm_dot(f1, f2, norm_p):\n",
    "    res = np.sum(f1 * f2 * norm_p)\n",
    "    return res"
   ]
  },
  {
   "cell_type": "code",
   "execution_count": 20,
   "metadata": {},
   "outputs": [
    {
     "name": "stdout",
     "output_type": "stream",
     "text": [
      "[array([-0.04201404,  0.57732526,  0.58663271,  0.56801781,  0.57732526,\n",
      "       -0.02213321]), array([-4.14386757e-02,  2.75925530e-05, -5.10696558e-03,  5.16215069e-03,\n",
      "        2.75925530e-05, -1.55806921e-02]), array([-2.91650878e-02, -8.63773463e-05,  1.59871446e-02, -1.61598993e-02,\n",
      "       -8.63773463e-05, -1.35957280e-02])]\n",
      "-1.6295558652457132e-16\n",
      "-1.4837984356821932e-16\n",
      "-8.253758288939527e-05\n"
     ]
    }
   ],
   "source": [
    "def ACE_fs(X, k, mask, norm_p, dim=28*28, q_dim=2, epsilon=0.01, max_step=500):\n",
    "    res = []\n",
    "    for i in range(k):\n",
    "        f_i = ACE_f(X, mask, norm_p, dim, q_dim, epsilon, max_step)\n",
    "        f_tmp = np.zeros_like(f_i)\n",
    "        for f_m in res:\n",
    "            f_tmp = f_tmp + norm_dot(f_i, f_m, norm_p)*f_m\n",
    "        f_i -= f_tmp\n",
    "        res.append(f_i)\n",
    "    return res\n",
    "\n",
    "fs = ACE_fs(X, 3, mask, norm_p, 3)\n",
    "print(fs)\n",
    "print(np.sum(norm_dot(fs[0], fs[1], norm_p)))\n",
    "print(np.sum(norm_dot(fs[0], fs[2], norm_p)))\n",
    "print(np.sum(norm_dot(fs[1], fs[2], norm_p)))"
   ]
  },
  {
   "cell_type": "code",
   "execution_count": 24,
   "metadata": {},
   "outputs": [
    {
     "name": "stdout",
     "output_type": "stream",
     "text": [
      "[[ 0  1  2  3  4]\n",
      " [ 5  6  7  8  9]\n",
      " [10 11 12 13 14]\n",
      " [15 16 17 18 19]\n",
      " [20 21 22 23 24]\n",
      " [25 26 27 28 29]\n",
      " [30 31 32 33 34]\n",
      " [35 36 37 38 39]]\n",
      "[6 2 5]\n",
      "[[30 31 32 33 34]\n",
      " [10 11 12 13 14]\n",
      " [25 26 27 28 29]]\n"
     ]
    }
   ],
   "source": [
    "a = np.arange(40).reshape(8, 5)\n",
    "print(a)\n",
    "\n",
    "idxs = np.random.choice(a.shape[0], 3, False)\n",
    "print(idxs)\n",
    "print(a[idxs, :])"
   ]
  },
  {
   "cell_type": "code",
   "execution_count": null,
   "metadata": {},
   "outputs": [],
   "source": []
  }
 ],
 "metadata": {
  "kernelspec": {
   "display_name": "Python [conda env:tensorflow]",
   "language": "python",
   "name": "conda-env-tensorflow-py"
  },
  "language_info": {
   "codemirror_mode": {
    "name": "ipython",
    "version": 3
   },
   "file_extension": ".py",
   "mimetype": "text/x-python",
   "name": "python",
   "nbconvert_exporter": "python",
   "pygments_lexer": "ipython3",
   "version": "3.5.6"
  }
 },
 "nbformat": 4,
 "nbformat_minor": 2
}
